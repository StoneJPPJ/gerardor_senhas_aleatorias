{
 "cells": [
  {
   "cell_type": "code",
   "execution_count": null,
   "id": "13b346e5",
   "metadata": {},
   "outputs": [
    {
     "name": "stdout",
     "output_type": "stream",
     "text": [
      "<class 'str'>\n",
      "GV&0m\"['\n"
     ]
    }
   ],
   "source": [
    "import random\n",
    "import string\n",
    "\n",
    "# GERAR SENHA ALEATORIA\n",
    "\n",
    "# DEVE CONTER LETRAS, NUMEROS E CARACTERES ESPECIAIS\n",
    "    # TODA VEZ QUE FOR FORNECIDO UM NOVO COMPRIMENTO, DEVE SER GERADO UMA NOVA SENHA\n",
    "    \n",
    "# USUARIO FORNECE O COMPRIMENTO DA SENHA\n",
    "    # SE FOR MENOR DO 4\n",
    "        # IMPRIME UMA MENSAGEM DE ERRO E PEDI PARA FORNECER A SENHA NOVAMENTE\n",
    "\n",
    "# OBS: NÃO PODE TER ESPAÇO EM BRANCO \n",
    "\n",
    "def gerar_senha(comprimento):\n",
    "    \n",
    "    '''\n",
    "    Recebe um comprimento/tamanho pelo usuário e cria uma senha aleatória.\n",
    "    \n",
    "    Parameters\n",
    "    ----------\n",
    "    comprimento: int\n",
    "    \n",
    "    \n",
    "    Return\n",
    "    -------\n",
    "    Str\n",
    "        senha\n",
    "    '''\n",
    "\n",
    "    while comprimento < 7:\n",
    "        print('Comprimento inválido! Digite um valor acima de 4.')\n",
    "        comprimento = input('Digite o comprimento da senha: ')\n",
    "    \n",
    "    senha = [\n",
    "    random.choice(string.punctuation),\n",
    "    random.choice(string.ascii_letters),\n",
    "    random.choice(string.digits),\n",
    "    ]\n",
    "    \n",
    "    possibilidades = ''.join([string.punctuation,string.ascii_letters,string.digits])\n",
    "    senha.extend(random.choices(possibilidades,k=comprimento-3))\n",
    "    random.shuffle(senha)\n",
    "    \n",
    "    return ''.join(senha)\n",
    "\n",
    "comprimento = int(input('Digite o comprimento da senha que deseja: '))\n",
    "print(gerar_senha(comprimento))\n"
   ]
  }
 ],
 "metadata": {
  "kernelspec": {
   "display_name": "Python 3",
   "language": "python",
   "name": "python3"
  },
  "language_info": {
   "codemirror_mode": {
    "name": "ipython",
    "version": 3
   },
   "file_extension": ".py",
   "mimetype": "text/x-python",
   "name": "python",
   "nbconvert_exporter": "python",
   "pygments_lexer": "ipython3",
   "version": "3.11.9"
  }
 },
 "nbformat": 4,
 "nbformat_minor": 5
}
